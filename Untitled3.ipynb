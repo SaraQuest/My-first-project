{
 "cells": [
  {
   "cell_type": "code",
   "execution_count": 5,
   "id": "4ada7d95-29dc-4722-9f04-bc5d76046fcd",
   "metadata": {},
   "outputs": [
    {
     "name": "stdout",
     "output_type": "stream",
     "text": [
      "49085.9375\n"
     ]
    }
   ],
   "source": [
    "radius=125\n",
    "area=3.1415*radius*radius\n",
    "print(area)"
   ]
  },
  {
   "cell_type": "code",
   "execution_count": 16,
   "id": "513e3aca-1cb6-4207-b080-11dc3b41b7df",
   "metadata": {},
   "outputs": [
    {
     "ename": "SyntaxError",
     "evalue": "invalid character '）' (U+FF09) (2198892140.py, line 1)",
     "output_type": "error",
     "traceback": [
      "\u001b[1;36m  Cell \u001b[1;32mIn[16], line 1\u001b[1;36m\u001b[0m\n\u001b[1;33m    name=input(\"输入姓名：\"）\u001b[0m\n\u001b[1;37m                      ^\u001b[0m\n\u001b[1;31mSyntaxError\u001b[0m\u001b[1;31m:\u001b[0m invalid character '）' (U+FF09)\n"
     ]
    }
   ],
   "source": [
    "name=input(\"输入姓名：\"）\n",
    "print(\"{}同学,学好python,前途无量!\".format（name))\n",
    "print(\"{}大侠,学好python,大展拳脚!\".format(name[0]))\n",
    "print(\"{}哥哥,学好python,人见人爱！\".format(name[1:]))"
   ]
  },
  {
   "cell_type": "code",
   "execution_count": 22,
   "id": "acbebc1e-916b-48c4-b8b2-c3b44dc76c74",
   "metadata": {},
   "outputs": [
    {
     "name": "stdin",
     "output_type": "stream",
     "text": [
      "输入姓名： 张欣冉\n"
     ]
    },
    {
     "name": "stdout",
     "output_type": "stream",
     "text": [
      "张欣冉同学,学好python,前途无量!\n",
      "张大侠,学好python,大展拳脚!\n",
      "欣哥哥,学好python,人见人爱！\n"
     ]
    }
   ],
   "source": [
    "name=input(\"输入姓名：\")\n",
    "print(\"{}同学,学好python,前途无量!\".format(name))\n",
    "print(\"{}大侠,学好python,大展拳脚!\".format(name[0]))\n",
    "print(\"{}哥哥,学好python,人见人爱！\".format(name[1]))"
   ]
  },
  {
   "cell_type": "code",
   "execution_count": 24,
   "id": "d1567e96-ac86-433e-bf25-619e093ab7f3",
   "metadata": {},
   "outputs": [
    {
     "name": "stdin",
     "output_type": "stream",
     "text": [
      "请输入一个整数:  2\n"
     ]
    },
    {
     "name": "stdout",
     "output_type": "stream",
     "text": [
      "hello,\n",
      "it's True\n"
     ]
    }
   ],
   "source": [
    "answer=int(input(\"请输入一个整数: \"))\n",
    "if answer==2:\n",
    "   print(\"hello,\")\n",
    "   print(\"it's True\")\n",
    "else:\n",
    "  print(\"sorry,\")\n",
    "  print(\"it's False\")"
   ]
  },
  {
   "cell_type": "code",
   "execution_count": 3,
   "id": "c194eb87-9db6-4150-8043-3455a01d6e83",
   "metadata": {},
   "outputs": [
    {
     "name": "stdout",
     "output_type": "stream",
     "text": [
      "python  programe?\n"
     ]
    }
   ],
   "source": [
    "str1=\"python\"\n",
    "str2=\"  programe?\"\n",
    "print(str1+str2)"
   ]
  },
  {
   "cell_type": "code",
   "execution_count": 2,
   "id": "ece8ebba-ea84-4e10-ab43-f0df90bd24aa",
   "metadata": {},
   "outputs": [
    {
     "name": "stdout",
     "output_type": "stream",
     "text": [
      "pythonpython\n"
     ]
    }
   ],
   "source": [
    "str='python'\n",
    "print(str*2)"
   ]
  },
  {
   "cell_type": "code",
   "execution_count": 6,
   "id": "3e013943-0a0d-46a7-a84f-cea1f19abe22",
   "metadata": {},
   "outputs": [
    {
     "name": "stdout",
     "output_type": "stream",
     "text": [
      "g\n",
      "a\n"
     ]
    }
   ],
   "source": [
    "str=\"programe\"\n",
    "print(str[3])\n",
    "print(str[5])\n"
   ]
  },
  {
   "cell_type": "code",
   "execution_count": 7,
   "id": "edfc7122-0d15-49de-b70f-f2d237ab4584",
   "metadata": {},
   "outputs": [
    {
     "name": "stdout",
     "output_type": "stream",
     "text": [
      "lio\n",
      "illio\n"
     ]
    }
   ],
   "source": [
    "str='million'\n",
    "print(str[3:-1])\n",
    "print(str[1:-1])"
   ]
  },
  {
   "cell_type": "code",
   "execution_count": 11,
   "id": "2c6a60b6-fd0b-47c2-90c3-6f7ec99c4861",
   "metadata": {},
   "outputs": [
    {
     "name": "stdout",
     "output_type": "stream",
     "text": [
      "0,1,1,2,3,5,8,13,21,34,55,89,144,233,377,610,987,"
     ]
    }
   ],
   "source": [
    "a,b=0,1\n",
    "while a <1000:\n",
    "   print(a,end=',')\n",
    "   a,b=b,a+b"
   ]
  },
  {
   "cell_type": "code",
   "execution_count": 26,
   "id": "81c21c44-6476-4b26-9feb-456811765064",
   "metadata": {},
   "outputs": [
    {
     "name": "stdout",
     "output_type": "stream",
     "text": [
      "0481216202428"
     ]
    }
   ],
   "source": [
    "i=0\n",
    "while i<30:\n",
    "  if i%4==0:\n",
    "     print(i,end='')\n",
    "  i=i+1"
   ]
  },
  {
   "cell_type": "code",
   "execution_count": 30,
   "id": "287f5cad-b45c-44fa-8ea6-3837bca4a620",
   "metadata": {},
   "outputs": [],
   "source": [
    "import turtle\n",
    "turtle.pensize(2)\n",
    "turtle.circle(10)\n",
    "turtle.circle(40)\n",
    "turtle.circle(80)\n",
    "turtle.circle(160)"
   ]
  },
  {
   "cell_type": "code",
   "execution_count": 41,
   "id": "039dc836-cc23-452a-9706-c8cf310b792c",
   "metadata": {},
   "outputs": [
    {
     "name": "stdout",
     "output_type": "stream",
     "text": [
      "1+2+3+4++6+7=28.\n"
     ]
    }
   ],
   "source": [
    "sum=0\n",
    "for i in range(1,8):\n",
    "    sum = sum+i\n",
    "print(\"1+2+3+4++6+7=%d.\"%sum)"
   ]
  },
  {
   "cell_type": "code",
   "execution_count": 57,
   "id": "7fa44840-8b22-479a-92e3-7ec559b4f731",
   "metadata": {},
   "outputs": [
    {
     "name": "stdout",
     "output_type": "stream",
     "text": [
      "2025-10-13 17:54:47.623827\n"
     ]
    },
    {
     "data": {
      "text/plain": [
       "'17:54:47'"
      ]
     },
     "execution_count": 57,
     "metadata": {},
     "output_type": "execute_result"
    }
   ],
   "source": [
    "from datetime import datetime\n",
    "now=datetime.now()\n",
    "print(now)\n",
    "now.strftime(\"%x\")\n",
    "now.strftime(\"%X\")\n"
   ]
  },
  {
   "cell_type": "code",
   "execution_count": 43,
   "id": "b9d4b6da-bc89-4c75-8a1e-5e014cb22a84",
   "metadata": {},
   "outputs": [
    {
     "name": "stdout",
     "output_type": "stream",
     "text": [
      "[1, 'er', 'ery', 3]\n"
     ]
    }
   ],
   "source": [
    "list=[1,\"er\",\"ery\",3]\n",
    "print(list)"
   ]
  },
  {
   "cell_type": "code",
   "execution_count": 52,
   "id": "6a211628-d3b5-4637-99d4-18c3eb592c7b",
   "metadata": {},
   "outputs": [
    {
     "name": "stdout",
     "output_type": "stream",
     "text": [
      "1\n"
     ]
    }
   ],
   "source": [
    "list=[1,'fer',' ',0]\n",
    "list=list.index('fer')\n",
    "print(list)"
   ]
  },
  {
   "cell_type": "code",
   "execution_count": 54,
   "id": "17ecc6b1-472a-40f0-8001-910059823f2c",
   "metadata": {},
   "outputs": [
    {
     "name": "stdout",
     "output_type": "stream",
     "text": [
      "[540, 12, 585, 13, 27, 54]\n"
     ]
    }
   ],
   "source": [
    "vec1=[12,13,-9]\n",
    "vec2=[45,1,-3,-6]\n",
    "print([x*y for x in vec1 for y in vec2 if x*y>0])"
   ]
  },
  {
   "cell_type": "code",
   "execution_count": 61,
   "id": "7ee55ee5-0a58-4134-8b24-e2478d5135f6",
   "metadata": {},
   "outputs": [
    {
     "name": "stdout",
     "output_type": "stream",
     "text": [
      "the answer is true\n"
     ]
    }
   ],
   "source": [
    "print('the answer is true')"
   ]
  },
  {
   "cell_type": "code",
   "execution_count": 2,
   "id": "19a132e3-a320-4a87-9a05-cc80c817f7ed",
   "metadata": {},
   "outputs": [
    {
     "data": {
      "text/plain": [
       "[0, 1, 2, 3, 4, 5, 6, 7, 8, 9]"
      ]
     },
     "execution_count": 2,
     "metadata": {},
     "output_type": "execute_result"
    }
   ],
   "source": [
    "list(range(10))"
   ]
  },
  {
   "cell_type": "code",
   "execution_count": 12,
   "id": "84cecc79-bbd0-467e-ba90-d7875d479cdb",
   "metadata": {},
   "outputs": [
    {
     "name": "stdin",
     "output_type": "stream",
     "text": [
      "请输入一个人的名字 zxr\n",
      "请输入一个国家的名字 zg\n"
     ]
    },
    {
     "name": "stdout",
     "output_type": "stream",
     "text": [
      "世界那么大，zxr想去zg看看。\n"
     ]
    }
   ],
   "source": [
    "str1=input(\"请输入一个人的名字\")\n",
    "str2=input(\"请输入一个国家的名字\")\n",
    "print(\"世界那么大，{}想去{}看看。\".format(str1,str2))\n"
   ]
  },
  {
   "cell_type": "code",
   "execution_count": 16,
   "id": "a5f56779-e414-4a7c-9908-93c34f0c43da",
   "metadata": {},
   "outputs": [
    {
     "name": "stdin",
     "output_type": "stream",
     "text": [
      "请输入整数: 3\n"
     ]
    },
    {
     "name": "stdout",
     "output_type": "stream",
     "text": [
      "1到n求和结果: 6\n"
     ]
    }
   ],
   "source": [
    "n=input(\"请输入整数:\")\n",
    "sum=0\n",
    "for i in range(int(n)):\n",
    "   sum+=i+1\n",
    "print(\"1到n求和结果:\",sum)"
   ]
  },
  {
   "cell_type": "code",
   "execution_count": 2,
   "id": "7ac3bbe0-7ba1-42a7-ae63-0ac30a336c49",
   "metadata": {},
   "outputs": [
    {
     "name": "stdout",
     "output_type": "stream",
     "text": [
      "1963.4375000000002\n",
      "1963.44\n"
     ]
    }
   ],
   "source": [
    "radius=25\n",
    "area=3.1415*radius*radius\n",
    "print(area)\n",
    "print(\"{:.2f}\".format(area))"
   ]
  },
  {
   "cell_type": "code",
   "execution_count": 10,
   "id": "4151cb6a-5b48-4ab5-83c9-baa4e94cee59",
   "metadata": {},
   "outputs": [
    {
     "name": "stdout",
     "output_type": "stream",
     "text": [
      "0,1,1,2,3,5,8,13,21,34,55,89,144,233,377,610,987,"
     ]
    }
   ],
   "source": [
    "a,b=0,1\n",
    "while a <1000:\n",
    " print(a,end=',')\n",
    " a,b=b,a+b"
   ]
  },
  {
   "cell_type": "code",
   "execution_count": 4,
   "id": "44c21369-2612-45f1-a8c9-cb55201f5a02",
   "metadata": {},
   "outputs": [
    {
     "name": "stdin",
     "output_type": "stream",
     "text": [
      "请输入姓名: 张欣冉\n"
     ]
    },
    {
     "name": "stdout",
     "output_type": "stream",
     "text": [
      "欣同学，欢迎回到西安外国语大学\n"
     ]
    }
   ],
   "source": [
    "name=input(\"请输入姓名:\")\n",
    "print(\"{}同学，欢迎回到西安外国语大学\".format(name[1]))"
   ]
  },
  {
   "cell_type": "code",
   "execution_count": 14,
   "id": "8b2816f4-7a32-461b-8e25-c936c5ea8f46",
   "metadata": {},
   "outputs": [
    {
     "name": "stdout",
     "output_type": "stream",
     "text": [
      "1,1,2,3,5,8,13,21,34,55,89,144,233,377,610,987,1597,"
     ]
    }
   ],
   "source": [
    "a,b=0,1\n",
    "while a <1000:\n",
    "    a,b=b,a+b\n",
    "    print(a,end=',')"
   ]
  },
  {
   "cell_type": "code",
   "execution_count": 2,
   "id": "9410f939-9b3c-4c08-8e47-9206f36f3584",
   "metadata": {},
   "outputs": [
    {
     "name": "stdout",
     "output_type": "stream",
     "text": [
      "0,1,1,2,3,5,8,13,21,34,55,89,144,233,377,610,987,"
     ]
    }
   ],
   "source": [
    "a,b=0,1\n",
    "while a <1000:\n",
    "    print(a,end=',')\n",
    "    a,b=b ,a+b"
   ]
  },
  {
   "cell_type": "code",
   "execution_count": 1,
   "id": "603d01d2-8388-48e5-989c-3cc12f1b43a4",
   "metadata": {},
   "outputs": [
    {
     "name": "stdout",
     "output_type": "stream",
     "text": [
      "hellow world\n"
     ]
    }
   ],
   "source": [
    "print(\"hellow world\")"
   ]
  },
  {
   "cell_type": "code",
   "execution_count": 1,
   "id": "16073d7d-8a60-40e8-9a1a-8ba6c1697fea",
   "metadata": {},
   "outputs": [],
   "source": [
    "import turtle\n",
    "turtle.pensize(2)\n",
    "turtle.circle(20)\n",
    "turtle.circle(30)\n",
    "turtle.circle(40)\n",
    "turtle.circle(50)"
   ]
  },
  {
   "cell_type": "code",
   "execution_count": 4,
   "id": "cd618d3a-ad51-4082-a1e0-09047548356e",
   "metadata": {},
   "outputs": [
    {
     "name": "stdout",
     "output_type": "stream",
     "text": [
      "0 1 1 2 3 5 8 13 21 34 55 89 144 233 377 610 987 "
     ]
    }
   ],
   "source": [
    "a,b=0,1\n",
    "while a <1000:\n",
    "    print(a,end=' ')\n",
    "    a,b=b ,a+b"
   ]
  },
  {
   "cell_type": "code",
   "execution_count": 12,
   "id": "9501d72f-d712-40cb-b8e2-f378d92e24b5",
   "metadata": {},
   "outputs": [
    {
     "name": "stdout",
     "output_type": "stream",
     "text": [
      "0\n",
      "1\n",
      "1\n",
      "2\n",
      "3\n",
      "5\n",
      "8\n",
      "13\n",
      "21\n",
      "34\n",
      "55\n",
      "89\n",
      "144\n",
      "233\n",
      "377\n",
      "610\n",
      "987\n"
     ]
    }
   ],
   "source": [
    "a,b=0,1\n",
    "while a <1000:\n",
    "    print(a)\n",
    "    a,b=b ,a+b"
   ]
  },
  {
   "cell_type": "code",
   "execution_count": null,
   "id": "618b728a-2126-4904-b61f-7e1b548424e7",
   "metadata": {},
   "outputs": [],
   "source": []
  }
 ],
 "metadata": {
  "kernelspec": {
   "display_name": "Python [conda env:base] *",
   "language": "python",
   "name": "conda-base-py"
  },
  "language_info": {
   "codemirror_mode": {
    "name": "ipython",
    "version": 3
   },
   "file_extension": ".py",
   "mimetype": "text/x-python",
   "name": "python",
   "nbconvert_exporter": "python",
   "pygments_lexer": "ipython3",
   "version": "3.13.5"
  }
 },
 "nbformat": 4,
 "nbformat_minor": 5
}
