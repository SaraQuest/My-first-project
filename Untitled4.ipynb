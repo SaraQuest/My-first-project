{
 "cells": [
  {
   "cell_type": "code",
   "execution_count": 1,
   "id": "da643970-3834-432e-bada-97846755b88f",
   "metadata": {},
   "outputs": [
    {
     "name": "stdout",
     "output_type": "stream",
     "text": [
      "hello world\n"
     ]
    }
   ],
   "source": [
    "print(\"hello world\")"
   ]
  },
  {
   "cell_type": "code",
   "execution_count": 1,
   "id": "03c3d906-0422-4397-9950-612be0d3de2e",
   "metadata": {},
   "outputs": [],
   "source": [
    "import turtle\n",
    "turtle.pensize(2)\n",
    "turtle.circle(10)\n",
    "turtle.circle(20)\n",
    "turtle.circle(30)"
   ]
  },
  {
   "cell_type": "code",
   "execution_count": 4,
   "id": "0d960824-d24c-4f49-b4a2-b36fdf9484eb",
   "metadata": {},
   "outputs": [
    {
     "name": "stdout",
     "output_type": "stream",
     "text": [
      "2025-10-16 22:55:48.573465\n"
     ]
    },
    {
     "data": {
      "text/plain": [
       "'22:55:48'"
      ]
     },
     "execution_count": 4,
     "metadata": {},
     "output_type": "execute_result"
    }
   ],
   "source": [
    "from datetime import datetime\n",
    "now=datetime.now()\n",
    "print(now)\n",
    "now.strftime(\"%x\")\n",
    "now.strftime(\"%X\")"
   ]
  },
  {
   "cell_type": "code",
   "execution_count": 5,
   "id": "1dcd3ec6-1d2b-4e46-aabc-b1d63df020d8",
   "metadata": {},
   "outputs": [
    {
     "name": "stdout",
     "output_type": "stream",
     "text": [
      "range(0, 10)\n"
     ]
    }
   ],
   "source": [
    "print(range(10))"
   ]
  },
  {
   "cell_type": "code",
   "execution_count": 7,
   "id": "6467aa4f-8342-4221-9d4b-fdc1beacc256",
   "metadata": {},
   "outputs": [
    {
     "data": {
      "text/plain": [
       "[0, 1, 2, 3, 4, 5, 6, 7, 8, 9]"
      ]
     },
     "execution_count": 7,
     "metadata": {},
     "output_type": "execute_result"
    }
   ],
   "source": [
    "list(range(10))"
   ]
  },
  {
   "cell_type": "code",
   "execution_count": 9,
   "id": "24519d04-b609-4815-98e3-2fe903e5e69e",
   "metadata": {},
   "outputs": [
    {
     "name": "stdout",
     "output_type": "stream",
     "text": [
      "0,1,1,2,3,5,8,13,21,34,55,89,144,233,377,610,987,"
     ]
    }
   ],
   "source": [
    "a,b=0,1\n",
    "while a <1000:\n",
    "    print(a,end=',')\n",
    "    a,b=b,a+b"
   ]
  },
  {
   "cell_type": "code",
   "execution_count": 1,
   "id": "476ee4d4-5519-4674-ac9b-cbba7cf09915",
   "metadata": {},
   "outputs": [
    {
     "name": "stdin",
     "output_type": "stream",
     "text": [
      "请输入一个人的名字: 张欣冉\n",
      "请输入一个国家的名字: 中国\n"
     ]
    },
    {
     "name": "stdout",
     "output_type": "stream",
     "text": [
      "世界那么大，张欣冉想去中国看看。\n"
     ]
    }
   ],
   "source": [
    "str1=input(\"请输入一个人的名字:\")\n",
    "str2=input(\"请输入一个国家的名字:\")\n",
    "print(\"世界那么大，{}想去{}看看。\".format(str1,str2))"
   ]
  },
  {
   "cell_type": "code",
   "execution_count": 5,
   "id": "040a5ffa-6541-4595-83be-7f14081fb68b",
   "metadata": {},
   "outputs": [
    {
     "name": "stdin",
     "output_type": "stream",
     "text": [
      "请输入一个人的姓名: zxr\n",
      "请输入一个国家的名称: zxr\n"
     ]
    },
    {
     "name": "stdout",
     "output_type": "stream",
     "text": [
      "zxr想去zxr看看。\n"
     ]
    }
   ],
   "source": [
    "str1=input(\"请输入一个人的姓名:\")\n",
    "str2=input(\"请输入一个国家的名称:\")\n",
    "print(\"{}想去{}看看。\".format(str1,str2))"
   ]
  },
  {
   "cell_type": "code",
   "execution_count": 11,
   "id": "6789c27d-6916-4008-bc94-dd614627d7c4",
   "metadata": {},
   "outputs": [
    {
     "name": "stdin",
     "output_type": "stream",
     "text": [
      "请输入一个整数: 666\n"
     ]
    },
    {
     "name": "stdout",
     "output_type": "stream",
     "text": [
      "1到n的求和结果: 222111\n"
     ]
    }
   ],
   "source": [
    "n=input(\"请输入一个整数:\")\n",
    "sum=0\n",
    "for i in range(int(n)):\n",
    "    sum+=i+1\n",
    "print(\"1到n的求和结果:\", sum)\n"
   ]
  },
  {
   "cell_type": "code",
   "execution_count": 13,
   "id": "a1e58edf-2e79-4925-9a06-15b93d9a9617",
   "metadata": {},
   "outputs": [
    {
     "name": "stdin",
     "output_type": "stream",
     "text": [
      "请输入一个整数: 12\n"
     ]
    },
    {
     "name": "stdout",
     "output_type": "stream",
     "text": [
      "1到n的整数和: 78\n"
     ]
    }
   ],
   "source": [
    "n=input(\"请输入一个整数:\")\n",
    "sum=0\n",
    "for i in range(int(n)):\n",
    "    sum+=i+1\n",
    "print(\"1到n的整数和:\",sum)\n"
   ]
  },
  {
   "cell_type": "code",
   "execution_count": 3,
   "id": "12db935f-fd98-4436-85cb-b0f8ce198894",
   "metadata": {},
   "outputs": [
    {
     "name": "stdin",
     "output_type": "stream",
     "text": [
      "请输入一个整数: 10\n"
     ]
    },
    {
     "name": "stdout",
     "output_type": "stream",
     "text": [
      "1到n的整数和: 55\n"
     ]
    }
   ],
   "source": [
    "n=input(\"请输入一个整数:\")\n",
    "sum=0\n",
    "for i in range (int(10)):\n",
    "    sum+=i+1\n",
    "print(\"1到n的整数和:\",sum)\n"
   ]
  },
  {
   "cell_type": "code",
   "execution_count": 9,
   "id": "c1a47614-23d5-4e15-8434-84b683a8aa90",
   "metadata": {},
   "outputs": [
    {
     "name": "stdout",
     "output_type": "stream",
     "text": [
      "1*1= 1  \n",
      "1*2= 2 2*2= 4  \n",
      "1*3= 3 2*3= 6 3*3= 9  \n",
      "1*4= 4 2*4= 8 3*4=12 4*4=16  \n",
      "1*5= 5 2*5=10 3*5=15 4*5=20 5*5=25  \n",
      "1*6= 6 2*6=12 3*6=18 4*6=24 5*6=30 6*6=36  \n",
      "1*7= 7 2*7=14 3*7=21 4*7=28 5*7=35 6*7=42 7*7=49  \n",
      "1*8= 8 2*8=16 3*8=24 4*8=32 5*8=40 6*8=48 7*8=56 8*8=64  \n",
      "1*9= 9 2*9=18 3*9=27 4*9=36 5*9=45 6*9=54 7*9=63 8*9=72 9*9=81  \n"
     ]
    }
   ],
   "source": [
    "for i in range (1,10):\n",
    "    for j in range(1,i+1):\n",
    "        print(\"{}*{}={:2}\".format(j,i,i*j),end=' ')\n",
    "    print(' ')\n",
    "\n"
   ]
  },
  {
   "cell_type": "code",
   "execution_count": 10,
   "id": "227ec78c-4541-413c-8d1c-178191a9f760",
   "metadata": {},
   "outputs": [
    {
     "name": "stdout",
     "output_type": "stream",
     "text": [
      " \n",
      "1*1= 1  \n",
      "2*1= 2 2*2= 4  \n",
      "3*1= 3 3*2= 6 3*3= 9  \n",
      "4*1= 4 4*2= 8 4*3=12 4*4=16  \n",
      "5*1= 5 5*2=10 5*3=15 5*4=20 5*5=25  \n",
      "6*1= 6 6*2=12 6*3=18 6*4=24 6*5=30 6*6=36  \n",
      "7*1= 7 7*2=14 7*3=21 7*4=28 7*5=35 7*6=42 7*7=49  \n",
      "8*1= 8 8*2=16 8*3=24 8*4=32 8*5=40 8*6=48 8*7=56 8*8=64  \n",
      "9*1= 9 9*2=18 9*3=27 9*4=36 9*5=45 9*6=54 9*7=63 9*8=72 9*9=81  \n"
     ]
    }
   ],
   "source": [
    "for i in range (10):\n",
    "    for j in range (1,i+1):\n",
    "        print(\"{}*{}={:2}\".format(i,j,i*j),end=' ')\n",
    "    print(' ')"
   ]
  },
  {
   "cell_type": "code",
   "execution_count": 1,
   "id": "cbe4ef0e-1515-434a-b1a7-082a4272aa3d",
   "metadata": {},
   "outputs": [
    {
     "name": "stdout",
     "output_type": "stream",
     "text": [
      "运算结果是: 4037913\n"
     ]
    }
   ],
   "source": [
    "sum,tmp=0,1\n",
    "for i in range (1,11):\n",
    "    tmp*=i\n",
    "    sum+=tmp\n",
    "print(\"运算结果是:\",sum)"
   ]
  },
  {
   "cell_type": "code",
   "execution_count": 2,
   "id": "34f927c2-f2c3-4284-a363-22f4c1ce4d9e",
   "metadata": {},
   "outputs": [
    {
     "name": "stdout",
     "output_type": "stream",
     "text": [
      "46\n"
     ]
    }
   ],
   "source": [
    "n=1\n",
    "for i in range (4,0,-1):\n",
    "    n=n+1<<1\n",
    "print(n)"
   ]
  },
  {
   "cell_type": "code",
   "execution_count": 3,
   "id": "0337c681-4165-4584-8cdf-63bb5a6287c9",
   "metadata": {},
   "outputs": [
    {
     "name": "stdout",
     "output_type": "stream",
     "text": [
      "西红柿花椰菜\n",
      "西红柿黄瓜\n",
      "西红柿牛排\n",
      "西红柿虾仁\n",
      "花椰菜西红柿\n",
      "花椰菜黄瓜\n",
      "花椰菜牛排\n",
      "花椰菜虾仁\n",
      "黄瓜西红柿\n",
      "黄瓜花椰菜\n",
      "黄瓜牛排\n",
      "黄瓜虾仁\n",
      "牛排西红柿\n",
      "牛排花椰菜\n",
      "牛排黄瓜\n",
      "牛排虾仁\n",
      "虾仁西红柿\n",
      "虾仁花椰菜\n",
      "虾仁黄瓜\n",
      "虾仁牛排\n"
     ]
    }
   ],
   "source": [
    "diet=['西红柿', '花椰菜','黄瓜','牛排','虾仁']\n",
    "for x in range (0,5):\n",
    "    for y in range (0,5):\n",
    "        if not (x==y):\n",
    "            print(\"{}{}\".format(diet[x],diet[y]))"
   ]
  },
  {
   "cell_type": "code",
   "execution_count": 3,
   "id": "48d6f734-fe02-42d8-ad85-edaaed86f765",
   "metadata": {},
   "outputs": [
    {
     "name": "stdout",
     "output_type": "stream",
     "text": [
      "hello world\n"
     ]
    }
   ],
   "source": [
    "print(\"hello world\")"
   ]
  },
  {
   "cell_type": "code",
   "execution_count": 2,
   "id": "6e3f4313-19e1-4fc8-b4e6-336f36ca1498",
   "metadata": {},
   "outputs": [
    {
     "name": "stdout",
     "output_type": "stream",
     "text": [
      "('a', 'b', 'c')\n"
     ]
    }
   ],
   "source": [
    "apple=tuple(\"abc\")\n",
    "print(apple)"
   ]
  },
  {
   "cell_type": "code",
   "execution_count": 4,
   "id": "0e3575eb-23b9-41ed-b3fe-1f32b09c8a38",
   "metadata": {},
   "outputs": [
    {
     "name": "stdout",
     "output_type": "stream",
     "text": [
      "输出结果是: ('a', 'b', 'c')\n"
     ]
    }
   ],
   "source": [
    "apple=tuple(\"abc\")\n",
    "print(\"输出结果是:\",apple)"
   ]
  },
  {
   "cell_type": "code",
   "execution_count": 1,
   "id": "69d828fe-eb86-4883-9010-8e48c69fa2e3",
   "metadata": {},
   "outputs": [
    {
     "name": "stdout",
     "output_type": "stream",
     "text": [
      "('a', 'b', 'c', 'd', 'e', 'f', 'g')\n"
     ]
    }
   ],
   "source": [
    "apple=tuple(\"abcd\")\n",
    "print(apple+tuple(\"efg\"))"
   ]
  },
  {
   "cell_type": "code",
   "execution_count": 2,
   "id": "1c904fad-457a-4dfd-9aec-89eb0d3dd4b9",
   "metadata": {},
   "outputs": [
    {
     "name": "stdout",
     "output_type": "stream",
     "text": [
      "x y z\n"
     ]
    }
   ],
   "source": [
    "apple=tuple(\"xyz\")\n",
    "a,b,c=apple\n",
    "print(a,b,c)"
   ]
  },
  {
   "cell_type": "code",
   "execution_count": 6,
   "id": "6809355e-829d-4f5a-af01-4152e17c9166",
   "metadata": {},
   "outputs": [
    {
     "name": "stdout",
     "output_type": "stream",
     "text": [
      "keys: dict_keys(['Newton', 'darwen', 'turng'])\n",
      "values: dict_values([1642, 1809, 1912])\n",
      "items: dict_items([('Newton', 1642), ('darwen', 1809), ('turng', 1912)])\n",
      "get: 456123\n"
     ]
    }
   ],
   "source": [
    "scientists={\"Newton\":1642,\"darwen\":1809,\"turng\":1912}\n",
    "print(\"keys:\",scientists.keys())\n",
    "print('values:',scientists.values())\n",
    "print('items:',scientists.items())\n",
    "print('get:',scientists.get('curle',456123))\n",
    "\n",
    "            "
   ]
  },
  {
   "cell_type": "code",
   "execution_count": 7,
   "id": "1b95c2b8-679f-403b-a5ef-ea6b08af0261",
   "metadata": {},
   "outputs": [
    {
     "name": "stdout",
     "output_type": "stream",
     "text": [
      "after update: {'Newton': 1642, 'darwen': 1809, 'turng': 1912, 'curie': 1867, 'hoper': 1960, 'franklin': 456}\n"
     ]
    }
   ],
   "source": [
    "temp={'curie':1867,'hoper':1960,'franklin':456}\n",
    "scientists.update(temp)\n",
    "print('after update:',scientists)"
   ]
  },
  {
   "cell_type": "code",
   "execution_count": null,
   "id": "be856b6c-2464-4aa3-8fcb-40d2111012e1",
   "metadata": {},
   "outputs": [],
   "source": [
    "with open(\"D:/stp"
   ]
  }
 ],
 "metadata": {
  "kernelspec": {
   "display_name": "Python [conda env:base] *",
   "language": "python",
   "name": "conda-base-py"
  },
  "language_info": {
   "codemirror_mode": {
    "name": "ipython",
    "version": 3
   },
   "file_extension": ".py",
   "mimetype": "text/x-python",
   "name": "python",
   "nbconvert_exporter": "python",
   "pygments_lexer": "ipython3",
   "version": "3.13.5"
  }
 },
 "nbformat": 4,
 "nbformat_minor": 5
}
